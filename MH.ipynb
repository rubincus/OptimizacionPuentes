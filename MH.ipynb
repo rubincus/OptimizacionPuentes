{
  "nbformat": 4,
  "nbformat_minor": 0,
  "metadata": {
    "colab": {
      "name": "MH.ipynb",
      "provenance": [],
      "collapsed_sections": [],
      "include_colab_link": true
    },
    "kernelspec": {
      "display_name": "Python 3",
      "language": "python",
      "name": "python3"
    },
    "language_info": {
      "codemirror_mode": {
        "name": "ipython",
        "version": 3
      },
      "file_extension": ".py",
      "mimetype": "text/x-python",
      "name": "python",
      "nbconvert_exporter": "python",
      "pygments_lexer": "ipython3",
      "version": "3.8.5"
    }
  },
  "cells": [
    {
      "cell_type": "markdown",
      "metadata": {
        "id": "view-in-github",
        "colab_type": "text"
      },
      "source": [
        "<a href=\"https://colab.research.google.com/github/rubincus/OptimizacionPuentes/blob/master/MH.ipynb\" target=\"_parent\"><img src=\"https://colab.research.google.com/assets/colab-badge.svg\" alt=\"Open In Colab\"/></a>"
      ]
    },
    {
      "cell_type": "markdown",
      "metadata": {
        "id": "u1fZILUt6muo"
      },
      "source": [
        "## MH Seno-Coseno"
      ]
    },
    {
      "cell_type": "markdown",
      "metadata": {
        "id": "heC8ztwWDiq5"
      },
      "source": [
        "### La iniciacion"
      ]
    },
    {
      "cell_type": "code",
      "metadata": {
        "id": "y9gDa6CW7ELP"
      },
      "source": [
        "# Aquí vamos a construir una función de iniciación, estra puede ser reemplazada\n",
        "# En este caso es una función trivial, donde definimos un upper bound y lower bound para cada dimensión.\n",
        "\n",
        "import numpy as np\n",
        "\n",
        "def init_solution(population, m_dimension, ub, lb, i):\n",
        "  \n",
        "  for j in range(m_dimension):\n",
        "    population[i,j] = np.random.uniform(0, 1, 1) * (ub - lb) + lb\n",
        "  return population\n",
        "\n",
        "def init_list_solution(n_population, m_dimension, ub, lb):\n",
        "  population = np.zeros((n_population, m_dimension))\n",
        "  for i in range(n_population):\n",
        "    population = init_solution(population, m_dimension, ub, lb, i)\n",
        "  return population"
      ],
      "execution_count": null,
      "outputs": []
    },
    {
      "cell_type": "code",
      "metadata": {
        "id": "KPEaf-TI-eNV"
      },
      "source": [
        "# Un ejemplo de como iniciamos la población. \n",
        "ub = 5\n",
        "lb = -5\n",
        "m_dimension = 10\n",
        "n_population = 15\n",
        "population = init_list_solution(n_population, m_dimension, ub, lb)\n",
        "print (population)"
      ],
      "execution_count": null,
      "outputs": []
    },
    {
      "cell_type": "markdown",
      "metadata": {
        "id": "FR_yPBRJDlhC"
      },
      "source": [
        "### El update"
      ]
    },
    {
      "cell_type": "markdown",
      "metadata": {
        "id": "k_YZTDJQVeC5"
      },
      "source": [
        "### SINE-COSINE"
      ]
    },
    {
      "cell_type": "code",
      "metadata": {
        "id": "tsvFnoYlBXhk"
      },
      "source": [
        "# SIN-COS\n",
        "import random\n",
        "def update_position(population, velocities, best, r1):  \n",
        "  n, m = population.shape\n",
        "  for i in range(n):\n",
        "    for j in range(m):\n",
        "      r2 = (2 * np.pi) * random.random()\n",
        "      r3 = 2 * random.random()\n",
        "      r4 = random.random()\n",
        "\n",
        "      if r4 < 0.5:\n",
        "        population[i,j] = population[i,j] + (r1 * np.sin(r2) * abs(r3 * best[j] - population[i, j])) # Actualización respecto del original. \n",
        "        velocities[i,j] = r1 * np.sin(r2) * abs(r3 * best[j] - population[i, j])\n",
        "      else:\n",
        "        population[i,j] = population[i, j] + (r1 * np.cos(r2) * abs(r3 * best[j] - population[i, j]))        \n",
        "        velocities[i,j] = r1 * np.cos(r2) * abs(r3 * best[j] - population[i, j])                              \n",
        "  return population, velocities"
      ],
      "execution_count": null,
      "outputs": []
    },
    {
      "cell_type": "markdown",
      "metadata": {
        "id": "UP7uYO5CVcNY"
      },
      "source": [
        "### JAYA"
      ]
    },
    {
      "cell_type": "code",
      "metadata": {
        "id": "kY7tfbl5VB8r"
      },
      "source": [
        "# JAYA\n",
        "\n",
        "import random\n",
        "def update_position(population, velocities, best, r1):  \n",
        "    n, m = population.shape\n",
        "    for i in range(n):\n",
        "        for j in range(m):\n",
        "            r1 = random.random()\n",
        "            r2 = random.random()\n",
        "            population[i,j] = population[i,j] + r1*(best[j] - abs(population[i, j])) - r2*(worst[j] - abs(population[i, j])) \n",
        "            velocities[i,j] = r1*(best[j] - abs(population[i, j])) - r2*(worst[j] - abs(population[i, j])) \n",
        "    return population, velocities"
      ],
      "execution_count": null,
      "outputs": []
    },
    {
      "cell_type": "markdown",
      "metadata": {
        "id": "j76cGTIaSRsK"
      },
      "source": [
        "### PSO"
      ]
    },
    {
      "cell_type": "code",
      "metadata": {
        "id": "nRRtvSxKSUeu"
      },
      "source": [
        "Vmax = 6\r\n",
        "wMax = 0.9\r\n",
        "wMin = 0.2\r\n",
        "c1 = 2\r\n",
        "c2 = 2\r\n",
        "\r\n",
        "w = wMax - l * ((wMax - wMin) / iters)\r\n",
        "for i in range(0, PopSize):\r\n",
        "            for j in range(0, dim):\r\n",
        "                r1 = random.random()\r\n",
        "                r2 = random.random()\r\n",
        "                vel[i, j] = (\r\n",
        "                    w * vel[i, j]\r\n",
        "                    + c1 * r1 * (pBest[i, j] - pos[i, j])\r\n",
        "                    + c2 * r2 * (gBest[j] - pos[i, j])\r\n",
        "                )\r\n",
        "\r\n",
        "                if vel[i, j] > Vmax:\r\n",
        "                    vel[i, j] = Vmax\r\n",
        "\r\n",
        "                if vel[i, j] < -Vmax:\r\n",
        "                    vel[i, j] = -Vmax\r\n",
        "\r\n",
        "                pos[i, j] = pos[i, j] + vel[i, j]"
      ],
      "execution_count": null,
      "outputs": []
    },
    {
      "cell_type": "markdown",
      "metadata": {
        "id": "jr1-m5pzDnUe"
      },
      "source": [
        "### Obteniendo el mejor valor\n",
        "\n",
        "Para el caso de un mínimo.\n",
        "\n"
      ]
    },
    {
      "cell_type": "code",
      "metadata": {
        "id": "sMQ5zz85D4HK"
      },
      "source": [
        "def get_fitness(population, fitness):\n",
        "  # Vamos a asumir que entregamos la población entera y calculamos el fitness para todos\n",
        "  n, m = population.shape\n",
        "  for i in range(n):\n",
        "    sum = 0\n",
        "    for j in range(m):\n",
        "      # La norma del vector.\n",
        "      sum += population[i,j]**2\n",
        "    fitness[i] = sum\n",
        "  return fitness\n",
        "\n",
        "def get_new_best(population, best, best_fitness):\n",
        "  n, m = population.shape\n",
        "  for i in range(n):\n",
        "    if fitness[i] < best_fitness:\n",
        "      best = population[i]\n",
        "      best_fitness = fitness[i]\n",
        "  return best, best_fitness\n"
      ],
      "execution_count": null,
      "outputs": []
    },
    {
      "cell_type": "code",
      "metadata": {
        "id": "ii4c-BDFGM8-"
      },
      "source": [
        "# Pongamos todo a funcionar\n",
        "\n",
        "import copy\n",
        "ub = 5\n",
        "lb = -5\n",
        "m_dimension = 10\n",
        "n_population = 15\n",
        "fitness = np.full(n_population, 10000.0)\n",
        "best = np.full(m_dimension, 300.0)\n",
        "best_fitness = 13455\n",
        "max_iter = 300\n",
        "# Iniciamos las soluciones\n",
        "population = init_list_solution(n_population, m_dimension, ub, lb)\n",
        "velocidades = []\n",
        "velocities = np.zeros((n_population, m_dimension))\n",
        "\n",
        "for k in range(max_iter):\n",
        "  # Obtenemos el fitness\n",
        "  fitness = get_fitness(population, fitness)\n",
        "  # Obtenemos el best\n",
        "  best, best_fitness = get_new_best(population, best, best_fitness)\n",
        "  # Iteramos con la MH\n",
        "  r1 = 2 - k * ((2) / max_iter)  # Va decreciendo linealmente.\n",
        "  population, velocities = update_position(population, velocities, best, r1)\n",
        "  velocidades.append(copy.deepcopy(velocities))\n",
        "\n"
      ],
      "execution_count": null,
      "outputs": []
    },
    {
      "cell_type": "code",
      "metadata": {
        "colab": {
          "base_uri": "https://localhost:8080/"
        },
        "id": "nlVmSO2MSMdT",
        "outputId": "aa60310c-1bee-4572-cf32-2367b46d92d4"
      },
      "source": [
        "print(best)"
      ],
      "execution_count": null,
      "outputs": [
        {
          "output_type": "stream",
          "text": [
            "[ 8.03201222e-13  4.95392164e-14  7.99768977e-12  9.95015849e-13\n",
            "  5.65968791e-13 -7.47896375e-13 -8.62413401e-12 -2.20653450e-12\n",
            " -1.07200424e-12 -3.26099573e-12]\n"
          ],
          "name": "stdout"
        }
      ]
    },
    {
      "cell_type": "code",
      "metadata": {
        "colab": {
          "base_uri": "https://localhost:8080/",
          "height": 294
        },
        "id": "LhgDK5v4eDD9",
        "outputId": "a01e7cb9-ef35-4659-e72e-ff439c1301a9"
      },
      "source": [
        "import matplotlib.pyplot as plt\n",
        "rng = np.random.RandomState(10)  # deterministic random data\n",
        "_ = plt.hist(velocidades[250], bins=20)  # arguments are passed to np.histogram\n",
        "plt.title(\"Histogram with 'auto' bins\")\n",
        "#Text(0.5, 1.0, \"Histogram with 'auto' bins\")\n",
        "plt.show()"
      ],
      "execution_count": null,
      "outputs": [
        {
          "output_type": "display_data",
          "data": {
            "image/png": "[encoded data removed]",
            "text/plain": [
              "<Figure size 432x288 with 1 Axes>"
            ]
          },
          "metadata": {
            "tags": [],
            "needs_background": "light"
          }
        }
      ]
    },
    {
      "cell_type": "markdown",
      "metadata": {
        "id": "MIIIQr5VPiLH"
      },
      "source": [
        "### Procedimiento de binzarización\n",
        "\n",
        "Vamos a escribir distintos procedimientos de binarización. Para los distintos vectores. \n",
        "\n"
      ]
    },
    {
      "cell_type": "code",
      "metadata": {
        "colab": {
          "base_uri": "https://localhost:8080/",
          "height": 295
        },
        "id": "Lea8iPTFKV5j",
        "outputId": "c1889e5e-dc7f-4582-92f3-d9cef05701b2"
      },
      "source": [
        "\n",
        "# Python program showing Graphical \n",
        "# representation of tanh() function \n",
        "import numpy as np \n",
        "import matplotlib.pyplot as plt \n",
        "  \n",
        "in_array = np.linspace(-np.pi, np.pi, 120) \n",
        "out_array = abs(np.tanh(in_array) )\n",
        "  \n",
        "#print(\"in_array : \", in_array) \n",
        "#print(\"\\nout_array : \", out_array) \n",
        "  \n",
        "# red for numpy.tanh() \n",
        "plt.plot(in_array, out_array, color = 'red', marker = \"o\") \n",
        "plt.title(\"numpy.tanh()\") \n",
        "plt.xlabel(\"X\") \n",
        "plt.ylabel(\"Y\") \n",
        "plt.show() "
      ],
      "execution_count": null,
      "outputs": [
        {
          "output_type": "display_data",
          "data": {
            "image/png": "[encoded data removed]",
            "text/plain": [
              "<Figure size 432x288 with 1 Axes>"
            ]
          },
          "metadata": {
            "tags": [],
            "needs_background": "light"
          }
        }
      ]
    }
  ]
}