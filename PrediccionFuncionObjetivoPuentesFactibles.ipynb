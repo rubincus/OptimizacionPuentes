{
  "nbformat": 4,
  "nbformat_minor": 5,
  "metadata": {
    "kernelspec": {
      "display_name": "Python 3",
      "language": "python",
      "name": "python3"
    },
    "language_info": {
      "codemirror_mode": {
        "name": "ipython",
        "version": 3
      },
      "file_extension": ".py",
      "mimetype": "text/x-python",
      "name": "python",
      "nbconvert_exporter": "python",
      "pygments_lexer": "ipython3",
      "version": "3.8.5"
    },
    "colab": {
      "name": "PrediccionFuncionObjetivoPuentesFactibles.ipynb",
      "provenance": [],
      "include_colab_link": true
    }
  },
  "cells": [
    {
      "cell_type": "markdown",
      "metadata": {
        "id": "view-in-github",
        "colab_type": "text"
      },
      "source": [
        "<a href=\"https://colab.research.google.com/github/rubincus/OptimizacionPuentes/blob/master/PrediccionFuncionObjetivoPuentesFactibles.ipynb\" target=\"_parent\"><img src=\"https://colab.research.google.com/assets/colab-badge.svg\" alt=\"Open In Colab\"/></a>"
      ]
    },
    {
      "cell_type": "code",
      "metadata": {
        "id": "accepted-shell"
      },
      "source": [
        "import sqlite3\n",
        "import pandas as pd \n",
        "import os\n"
      ],
      "id": "accepted-shell",
      "execution_count": null,
      "outputs": []
    },
    {
      "cell_type": "code",
      "metadata": {
        "id": "directed-selling",
        "outputId": "2c73b33c-8372-454d-9b5a-607a579eaec5"
      },
      "source": [
        "# Esta ruta debe actualizarse en dode se encuentren las base de datos.\n",
        "con = sqlite3.connect('G:/Investigación/puentes/No_Factibles/puentes_no_factibles_db2.db')\n",
        "cursor = con.cursor()\n",
        "cursor.execute(\"SELECT name FROM sqlite_master WHERE type='table';\")\n",
        "print(cursor.fetchall())"
      ],
      "id": "directed-selling",
      "execution_count": null,
      "outputs": [
        {
          "output_type": "stream",
          "text": [
            "[('esfuerzos',), ('deformaciones',), ('mediciones_coeficientes',)]\n"
          ],
          "name": "stdout"
        }
      ]
    },
    {
      "cell_type": "code",
      "metadata": {
        "id": "divided-albania"
      },
      "source": [
        "\"\"\"\n",
        "Esta función tiene por objetivo leer todos los archivos .db \n",
        "y cargarlos en un unico dataframe de pandas. \n",
        "Utilizaremos algunas funcionalidades de os y pandas\n",
        "\"\"\"\n",
        "\n",
        "def read_db_files(path, file_type):\n",
        "\n",
        "    file_names = [x for x in os.listdir(path) if x.endswith(file_type)]\n",
        "    state = 0\n",
        "    for file_name in file_names:\n",
        "        con = sqlite3.connect(path + file_name)\n",
        "        if state == 0:\n",
        "            bridges = pd.read_sql_query(\"SELECT * from mediciones_coeficientes\", con)\n",
        "            #print(bridges.shape)\n",
        "            state = 1\n",
        "        else:\n",
        "            print(file_name)\n",
        "            bridges_temp = pd.read_sql_query(\"SELECT * from mediciones_coeficientes\", con)\n",
        "            #print(bridges_temp.shape)\n",
        "            # merge\n",
        "            bridges = pd.concat([bridges, bridges_temp])\n",
        "    return bridges\n",
        "            \n",
        "        "
      ],
      "id": "divided-albania",
      "execution_count": null,
      "outputs": []
    },
    {
      "cell_type": "code",
      "metadata": {
        "id": "instructional-slave",
        "outputId": "377f4bf8-c3e3-47d6-80cd-6f4e234b035f"
      },
      "source": [
        "\"\"\"\n",
        "Vamos a cargar solo los puentes factibles ya que vamos \n",
        "a asumir que primero miramos la factibilidad a través \n",
        "de un modelo o calculandola.\n",
        "\"\"\"\n",
        "\n",
        "path = 'G:/Investigación/puentes/Factibles/'\n",
        "file_type = 'db'\n",
        "bridges = read_db_files(path, file_type)\n"
      ],
      "id": "instructional-slave",
      "execution_count": null,
      "outputs": [
        {
          "output_type": "stream",
          "text": [
            "puentes_aleatorios_db10.db\n",
            "puentes_aleatorios_db11.db\n",
            "puentes_aleatorios_db12.db\n",
            "puentes_aleatorios_db13.db\n",
            "puentes_aleatorios_db14.db\n",
            "puentes_aleatorios_db15.db\n",
            "puentes_aleatorios_db16.db\n",
            "puentes_aleatorios_db2.db\n",
            "puentes_aleatorios_db3.db\n",
            "puentes_aleatorios_db4.db\n",
            "puentes_aleatorios_db5.db\n",
            "puentes_aleatorios_db6.db\n",
            "puentes_aleatorios_db7.db\n",
            "puentes_aleatorios_db8.db\n",
            "puentes_aleatorios_db9.db\n"
          ],
          "name": "stdout"
        }
      ]
    },
    {
      "cell_type": "code",
      "metadata": {
        "id": "dominant-giving",
        "outputId": "2478cd6e-550e-4932-99d5-66df01a6eb13"
      },
      "source": [
        "# Aquí estamos filtrando las primeras 35 variables que representan la configuración del puente.\n",
        "X_bridges = bridges.iloc[:,1:36]\n",
        "# Aquí cargamos las variables dependientes.\n",
        "Y_bridges = bridges[['Coste','CO2','Energia']]\n",
        "Y_bridges.head()"
      ],
      "id": "dominant-giving",
      "execution_count": null,
      "outputs": [
        {
          "output_type": "execute_result",
          "data": {
            "text/html": [
              "<div>\n",
              "<style scoped>\n",
              "    .dataframe tbody tr th:only-of-type {\n",
              "        vertical-align: middle;\n",
              "    }\n",
              "\n",
              "    .dataframe tbody tr th {\n",
              "        vertical-align: top;\n",
              "    }\n",
              "\n",
              "    .dataframe thead th {\n",
              "        text-align: right;\n",
              "    }\n",
              "</style>\n",
              "<table border=\"1\" class=\"dataframe\">\n",
              "  <thead>\n",
              "    <tr style=\"text-align: right;\">\n",
              "      <th></th>\n",
              "      <th>Coste</th>\n",
              "      <th>CO2</th>\n",
              "      <th>Energia</th>\n",
              "    </tr>\n",
              "  </thead>\n",
              "  <tbody>\n",
              "    <tr>\n",
              "      <th>0</th>\n",
              "      <td>5047563.78107136</td>\n",
              "      <td>11481558.822327</td>\n",
              "      <td>32799711.8113857</td>\n",
              "    </tr>\n",
              "    <tr>\n",
              "      <th>1</th>\n",
              "      <td>5101377.68775604</td>\n",
              "      <td>10669709.9912148</td>\n",
              "      <td>30518979.986918</td>\n",
              "    </tr>\n",
              "    <tr>\n",
              "      <th>2</th>\n",
              "      <td>5059411.08573801</td>\n",
              "      <td>11115080.3588463</td>\n",
              "      <td>31799316.647336</td>\n",
              "    </tr>\n",
              "    <tr>\n",
              "      <th>3</th>\n",
              "      <td>4999161.03571363</td>\n",
              "      <td>10615117.2720903</td>\n",
              "      <td>30696540.8189551</td>\n",
              "    </tr>\n",
              "    <tr>\n",
              "      <th>4</th>\n",
              "      <td>6193226.46337902</td>\n",
              "      <td>13118491.5941369</td>\n",
              "      <td>37268592.85006</td>\n",
              "    </tr>\n",
              "  </tbody>\n",
              "</table>\n",
              "</div>"
            ],
            "text/plain": [
              "              Coste               CO2           Energia\n",
              "0  5047563.78107136   11481558.822327  32799711.8113857\n",
              "1  5101377.68775604  10669709.9912148   30518979.986918\n",
              "2  5059411.08573801  11115080.3588463   31799316.647336\n",
              "3  4999161.03571363  10615117.2720903  30696540.8189551\n",
              "4  6193226.46337902  13118491.5941369    37268592.85006"
            ]
          },
          "metadata": {
            "tags": []
          },
          "execution_count": 5
        }
      ]
    },
    {
      "cell_type": "markdown",
      "metadata": {
        "id": "rubber-ottawa"
      },
      "source": [
        "### Ahora vamos a normalizar y separar la data.\n",
        "\n",
        "Aplicamos una normalización minmaxscaler, lo cual funciona bien para variables que estan uniformememnte distribuidas y no tienen outliers."
      ],
      "id": "rubber-ottawa"
    },
    {
      "cell_type": "code",
      "metadata": {
        "id": "solar-population"
      },
      "source": [
        "import pandas as pd\n",
        "from sklearn.preprocessing import MinMaxScaler\n",
        "scaler = MinMaxScaler()\n",
        "scaler1 = MinMaxScaler()\n",
        "X_bridges_scaled = scaler.fit_transform(X_bridges)\n",
        "Y_bridges_scaled = scaler1.fit_transform(Y_bridges)"
      ],
      "id": "solar-population",
      "execution_count": null,
      "outputs": []
    },
    {
      "cell_type": "code",
      "metadata": {
        "id": "activated-express"
      },
      "source": [
        "# Utilizamos un 33% para testear el resultado. \n",
        "from sklearn.model_selection import train_test_split\n",
        "X_train, X_test, y_train, y_test = train_test_split(X_bridges_scaled, Y_bridges_scaled, test_size=0.33, random_state=20)\n"
      ],
      "id": "activated-express",
      "execution_count": null,
      "outputs": []
    },
    {
      "cell_type": "markdown",
      "metadata": {
        "id": "distant-share"
      },
      "source": [
        "### Aquí construimos nuestro modelo"
      ],
      "id": "distant-share"
    },
    {
      "cell_type": "code",
      "metadata": {
        "id": "horizontal-mayor"
      },
      "source": [
        "from keras.layers import Dense, Input, Dropout\n",
        "from keras.optimizers import SGD\n",
        "from keras.models import Model\n",
        "from keras.models import load_model\n",
        "from keras.callbacks import ModelCheckpoint"
      ],
      "id": "horizontal-mayor",
      "execution_count": null,
      "outputs": []
    },
    {
      "cell_type": "code",
      "metadata": {
        "id": "patent-medicaid"
      },
      "source": [
        "# Incorpore su capa de entrada\n",
        "input_layer = Input(shape=(35,), dtype='float32')"
      ],
      "id": "patent-medicaid",
      "execution_count": null,
      "outputs": []
    },
    {
      "cell_type": "code",
      "metadata": {
        "id": "light-estate"
      },
      "source": [
        "# Incorpore capas escondidas\n",
        "dense1 = Dense(128, activation='relu')(input_layer)\n",
        "dense2 = Dense(64, activation='tanh')(dense1)\n",
        "dense3 = Dense(32, activation='tanh')(dense2)"
      ],
      "id": "light-estate",
      "execution_count": null,
      "outputs": []
    },
    {
      "cell_type": "code",
      "metadata": {
        "id": "honest-jefferson"
      },
      "source": [
        "# Agregue su dropout\n",
        "dropout_layer = Dropout(0.2)(dense3)"
      ],
      "id": "honest-jefferson",
      "execution_count": null,
      "outputs": []
    },
    {
      "cell_type": "code",
      "metadata": {
        "id": "congressional-wallace"
      },
      "source": [
        "# Ingrese su capa de salida\n",
        "output_layer = Dense(3, activation='linear')(dropout_layer)"
      ],
      "id": "congressional-wallace",
      "execution_count": null,
      "outputs": []
    },
    {
      "cell_type": "code",
      "metadata": {
        "id": "moral-tracker",
        "outputId": "a5600c97-c1a9-45e9-eeeb-66f2fbc9fce6"
      },
      "source": [
        "# Compile su modelo aqui.\n",
        "ts_model = Model(inputs=input_layer, outputs=output_layer)\n",
        "ts_model.compile(loss='mean_absolute_error', optimizer='adam')\n",
        "ts_model.summary()"
      ],
      "id": "moral-tracker",
      "execution_count": null,
      "outputs": [
        {
          "output_type": "stream",
          "text": [
            "Model: \"functional_5\"\n",
            "_________________________________________________________________\n",
            "Layer (type)                 Output Shape              Param #   \n",
            "=================================================================\n",
            "input_2 (InputLayer)         [(None, 35)]              0         \n",
            "_________________________________________________________________\n",
            "dense_8 (Dense)              (None, 128)               4608      \n",
            "_________________________________________________________________\n",
            "dense_9 (Dense)              (None, 64)                8256      \n",
            "_________________________________________________________________\n",
            "dense_10 (Dense)             (None, 32)                2080      \n",
            "_________________________________________________________________\n",
            "dropout_2 (Dropout)          (None, 32)                0         \n",
            "_________________________________________________________________\n",
            "dense_11 (Dense)             (None, 3)                 99        \n",
            "=================================================================\n",
            "Total params: 15,043\n",
            "Trainable params: 15,043\n",
            "Non-trainable params: 0\n",
            "_________________________________________________________________\n"
          ],
          "name": "stdout"
        }
      ]
    },
    {
      "cell_type": "code",
      "metadata": {
        "id": "musical-cambridge",
        "outputId": "207fb96a-785a-4ee6-f7f1-dee93e125b5e"
      },
      "source": [
        "save_weights_at = os.path.join(path, 'Bridge_MLP_weights.{epoch:02d}-{val_loss:.4f}.hdf5')\n",
        "save_best = ModelCheckpoint(save_weights_at, monitor='val_loss', verbose=0,\n",
        "                            save_best_only=True, save_weights_only=False, mode='min',\n",
        "                            period=1)\n",
        "ts_model.fit(x=X_train, y=y_train, batch_size=16, epochs=20,\n",
        "             verbose=1, callbacks=[save_best], validation_data=(X_test, y_test),\n",
        "             shuffle=True)"
      ],
      "id": "musical-cambridge",
      "execution_count": null,
      "outputs": [
        {
          "output_type": "stream",
          "text": [
            "WARNING:tensorflow:`period` argument is deprecated. Please use `save_freq` to specify the frequency in number of batches seen.\n",
            "Epoch 1/20\n",
            "849/849 [==============================] - 1s 866us/step - loss: 0.0901 - val_loss: 0.0319\n",
            "Epoch 2/20\n",
            "849/849 [==============================] - 1s 692us/step - loss: 0.0467 - val_loss: 0.0263\n",
            "Epoch 3/20\n",
            "849/849 [==============================] - 1s 704us/step - loss: 0.0339 - val_loss: 0.0151\n",
            "Epoch 4/20\n",
            "849/849 [==============================] - 1s 809us/step - loss: 0.0285 - val_loss: 0.0126\n",
            "Epoch 5/20\n",
            "849/849 [==============================] - 1s 744us/step - loss: 0.0249 - val_loss: 0.0192\n",
            "Epoch 6/20\n",
            "849/849 [==============================] - 1s 747us/step - loss: 0.0235 - val_loss: 0.0215\n",
            "Epoch 7/20\n",
            "849/849 [==============================] - 1s 722us/step - loss: 0.0223 - val_loss: 0.0178\n",
            "Epoch 8/20\n",
            "849/849 [==============================] - 1s 888us/step - loss: 0.0219 - val_loss: 0.0103\n",
            "Epoch 9/20\n",
            "849/849 [==============================] - 1s 812us/step - loss: 0.0217 - val_loss: 0.0151\n",
            "Epoch 10/20\n",
            "849/849 [==============================] - 1s 873us/step - loss: 0.0206 - val_loss: 0.0093\n",
            "Epoch 11/20\n",
            "849/849 [==============================] - 1s 721us/step - loss: 0.0203 - val_loss: 0.0111\n",
            "Epoch 12/20\n",
            "849/849 [==============================] - 1s 862us/step - loss: 0.0203 - val_loss: 0.0128\n",
            "Epoch 13/20\n",
            "849/849 [==============================] - 1s 713us/step - loss: 0.0195 - val_loss: 0.0165\n",
            "Epoch 14/20\n",
            "849/849 [==============================] - 1s 682us/step - loss: 0.0197 - val_loss: 0.0204\n",
            "Epoch 15/20\n",
            "849/849 [==============================] - 1s 667us/step - loss: 0.0197 - val_loss: 0.0093\n",
            "Epoch 16/20\n",
            "849/849 [==============================] - 1s 698us/step - loss: 0.0195 - val_loss: 0.0088\n",
            "Epoch 17/20\n",
            "849/849 [==============================] - 1s 738us/step - loss: 0.0191 - val_loss: 0.0087\n",
            "Epoch 18/20\n",
            "849/849 [==============================] - 1s 710us/step - loss: 0.0191 - val_loss: 0.0151\n",
            "Epoch 19/20\n",
            "849/849 [==============================] - 1s 711us/step - loss: 0.0193 - val_loss: 0.0102\n",
            "Epoch 20/20\n",
            "849/849 [==============================] - 1s 674us/step - loss: 0.0193 - val_loss: 0.0105\n"
          ],
          "name": "stdout"
        },
        {
          "output_type": "execute_result",
          "data": {
            "text/plain": [
              "<tensorflow.python.keras.callbacks.History at 0x148a42d2c40>"
            ]
          },
          "metadata": {
            "tags": []
          },
          "execution_count": 56
        }
      ]
    },
    {
      "cell_type": "markdown",
      "metadata": {
        "id": "authentic-sphere"
      },
      "source": [
        "### Verificando los resultados.\n",
        "\n",
        "Cargamos el modelo desde 0. "
      ],
      "id": "authentic-sphere"
    },
    {
      "cell_type": "code",
      "metadata": {
        "id": "rising-damage",
        "outputId": "87af8e83-bbfc-4965-cf83-851f22ef2054"
      },
      "source": [
        "print(X_test.shape)\n",
        "print(type(X_test))"
      ],
      "id": "rising-damage",
      "execution_count": null,
      "outputs": [
        {
          "output_type": "stream",
          "text": [
            "(6689, 35)\n",
            "<class 'numpy.ndarray'>\n"
          ],
          "name": "stdout"
        }
      ]
    },
    {
      "cell_type": "code",
      "metadata": {
        "id": "minor-minute",
        "outputId": "0d99d269-d03e-4f78-df3f-f4b2286d9368"
      },
      "source": [
        "\"\"\"\n",
        "Cargamos nuestro modelo. El mejor, Observe que el X_test tiene que tener una estructura de 35 \n",
        "filas en el orden establecido por mediciones_coeficientes. Además es un ndarray. \n",
        "Podemos pasar cuantas filas queramos y la red arroja la predicción para las tres variables dependientes en\n",
        "el siguiente orden: 'Coste','CO2','Energia'\n",
        "\n",
        "Aqui adjuntamos tambien el modelo Modelos/Bridge_MLP_weights.17-0.0087.hdf5. \n",
        "Pero se puede tomar otro dataset y reentrenar la red.\n",
        "\"\"\"\n",
        "pathModelos = 'G:/Investigación/puentes/Modelos/'\n",
        "best_model = load_model(os.path.join(pathModelos, 'Bridge_MLP_weights.17-0.0087.hdf5'))\n",
        "preds_scaled = best_model.predict(X_test)\n",
        "\n",
        "# Invertimos la normalización. \n",
        "pred = scaler1.inverse_transform(preds_scaled)\n",
        "y_test_inverted = scaler1.inverse_transform(y_test)\n",
        "\n",
        "\n",
        "# Un caso de ejemplo. \n",
        "print(pred[0,0], y_test_inverted[0,0])"
      ],
      "id": "minor-minute",
      "execution_count": null,
      "outputs": [
        {
          "output_type": "stream",
          "text": [
            "5848238.5 5818179.22223345\n"
          ],
          "name": "stdout"
        }
      ]
    },
    {
      "cell_type": "code",
      "metadata": {
        "id": "designing-indian",
        "outputId": "40155383-7502-4aa3-ff27-f65226a76242"
      },
      "source": [
        "# Calculando promedios.\n",
        "import numpy as np\n",
        "Coste_mean = np.mean(y_test_inverted[:,0])\n",
        "C02_mean = np.mean(y_test_inverted[:,1])\n",
        "Energy_mean = np.mean(y_test_inverted[:,2])\n",
        "\n",
        "print(Coste_mean, C02_mean, Energy_mean)"
      ],
      "id": "designing-indian",
      "execution_count": null,
      "outputs": [
        {
          "output_type": "stream",
          "text": [
            "5641229.824059843 11983163.671407655 34335800.66389057\n"
          ],
          "name": "stdout"
        }
      ]
    },
    {
      "cell_type": "code",
      "metadata": {
        "id": "white-services",
        "outputId": "dc7bc211-b732-4afc-cf0c-1c2881817a39"
      },
      "source": [
        "from sklearn.metrics import mean_absolute_error\n",
        "Coste_mae = mean_absolute_error(pred[:,0], y_test_inverted[:,0])\n",
        "C02_mae = mean_absolute_error(pred[:,1], y_test_inverted[:,1])\n",
        "Energy_mae = mean_absolute_error(pred[:,2], y_test_inverted[:,2])\n",
        "\n",
        "Coste_mae_error = 100*(Coste_mae/Coste_mean)\n",
        "CO2_mae_error = 100*(C02_mae/C02_mean)\n",
        "Energy_mae_error = 100*(Energy_mae/Energy_mean)\n",
        "\n",
        "print('% MAE for the validation set:', round(Coste_mae_error, 4), round(CO2_mae_error, 4), round(Energy_mae_error, 4))"
      ],
      "id": "white-services",
      "execution_count": null,
      "outputs": [
        {
          "output_type": "stream",
          "text": [
            "% MAE for the validation set: 0.5474 0.3674 0.3431\n"
          ],
          "name": "stdout"
        }
      ]
    },
    {
      "cell_type": "markdown",
      "metadata": {
        "id": "afraid-circuit"
      },
      "source": [
        "### Validemos con R2"
      ],
      "id": "afraid-circuit"
    },
    {
      "cell_type": "code",
      "metadata": {
        "id": "divine-apparatus",
        "outputId": "29751d47-e301-4711-f111-b32198a26192"
      },
      "source": [
        "from sklearn.metrics import r2_score\n",
        "Coste_r2 = r2_score(pred[:,0], y_test_inverted[:,0])\n",
        "CO2_r2 = r2_score(pred[:,1], y_test_inverted[:,1])\n",
        "Energy_r2 = r2_score(pred[:,2], y_test_inverted[:,2])\n",
        "\n",
        "print('R2 for the validation set:', round(Coste_r2, 4), round(CO2_r2, 4), round(Energy_r2, 4))"
      ],
      "id": "divine-apparatus",
      "execution_count": null,
      "outputs": [
        {
          "output_type": "stream",
          "text": [
            "R2 for the validation set: 0.9952 0.997 0.9976\n"
          ],
          "name": "stdout"
        }
      ]
    },
    {
      "cell_type": "markdown",
      "metadata": {
        "id": "toxic-breach"
      },
      "source": [
        "### Vamos a visualizar"
      ],
      "id": "toxic-breach"
    },
    {
      "cell_type": "code",
      "metadata": {
        "id": "becoming-nevada",
        "outputId": "bdbd091f-1dc1-4ac8-c1af-08c4009530e2"
      },
      "source": [
        "pd_y_test_inverted = pd.DataFrame(y_test_inverted, columns = ['Coste','CO2','Energy'])\n",
        "pd_pred = pd.DataFrame(pred, columns = ['Coste','CO2','Energy'])\n",
        "pd_y_test_inverted.head()"
      ],
      "id": "becoming-nevada",
      "execution_count": null,
      "outputs": [
        {
          "output_type": "execute_result",
          "data": {
            "text/html": [
              "<div>\n",
              "<style scoped>\n",
              "    .dataframe tbody tr th:only-of-type {\n",
              "        vertical-align: middle;\n",
              "    }\n",
              "\n",
              "    .dataframe tbody tr th {\n",
              "        vertical-align: top;\n",
              "    }\n",
              "\n",
              "    .dataframe thead th {\n",
              "        text-align: right;\n",
              "    }\n",
              "</style>\n",
              "<table border=\"1\" class=\"dataframe\">\n",
              "  <thead>\n",
              "    <tr style=\"text-align: right;\">\n",
              "      <th></th>\n",
              "      <th>Coste</th>\n",
              "      <th>CO2</th>\n",
              "      <th>Energy</th>\n",
              "    </tr>\n",
              "  </thead>\n",
              "  <tbody>\n",
              "    <tr>\n",
              "      <th>0</th>\n",
              "      <td>5.818179e+06</td>\n",
              "      <td>1.315790e+07</td>\n",
              "      <td>3.744765e+07</td>\n",
              "    </tr>\n",
              "    <tr>\n",
              "      <th>1</th>\n",
              "      <td>6.188623e+06</td>\n",
              "      <td>1.274222e+07</td>\n",
              "      <td>3.636104e+07</td>\n",
              "    </tr>\n",
              "    <tr>\n",
              "      <th>2</th>\n",
              "      <td>5.803801e+06</td>\n",
              "      <td>1.288738e+07</td>\n",
              "      <td>3.694729e+07</td>\n",
              "    </tr>\n",
              "    <tr>\n",
              "      <th>3</th>\n",
              "      <td>5.410532e+06</td>\n",
              "      <td>1.240745e+07</td>\n",
              "      <td>3.520334e+07</td>\n",
              "    </tr>\n",
              "    <tr>\n",
              "      <th>4</th>\n",
              "      <td>5.265532e+06</td>\n",
              "      <td>1.178578e+07</td>\n",
              "      <td>3.377126e+07</td>\n",
              "    </tr>\n",
              "  </tbody>\n",
              "</table>\n",
              "</div>"
            ],
            "text/plain": [
              "          Coste           CO2        Energy\n",
              "0  5.818179e+06  1.315790e+07  3.744765e+07\n",
              "1  6.188623e+06  1.274222e+07  3.636104e+07\n",
              "2  5.803801e+06  1.288738e+07  3.694729e+07\n",
              "3  5.410532e+06  1.240745e+07  3.520334e+07\n",
              "4  5.265532e+06  1.178578e+07  3.377126e+07"
            ]
          },
          "metadata": {
            "tags": []
          },
          "execution_count": 26
        }
      ]
    },
    {
      "cell_type": "code",
      "metadata": {
        "id": "toxic-election",
        "outputId": "22e2d211-5e6a-4569-a4d0-5db0a8d32d9e"
      },
      "source": [
        "import matplotlib.pyplot as plt\n",
        "plt.figure(figsize=(15, 5.5))\n",
        "plt.scatter(pd_pred['Coste'].loc[0:199], pd_y_test_inverted['Coste'].loc[0:199])\n",
        "\n",
        "plt.legend(['Real','Predicho'], loc=2)\n",
        "plt.title('Real vs Predicho Coste')\n",
        "plt.ylabel('Real')\n",
        "plt.xlabel('Predicho')\n",
        "plt.savefig('Coste.png', format='png', dpi=300)"
      ],
      "id": "toxic-election",
      "execution_count": null,
      "outputs": [
        {
          "output_type": "display_data",
          "data": {
            "image/png": "[encoded data removed]",
            "text/plain": [
              "<Figure size 1080x396 with 1 Axes>"
            ]
          },
          "metadata": {
            "tags": [],
            "needs_background": "light"
          }
        }
      ]
    },
    {
      "cell_type": "markdown",
      "metadata": {
        "id": "fundamental-blond"
      },
      "source": [
        "### Esto es algo que podemos incluir en nuestro algoritmo \n",
        "\n",
        "Ya que mas menos tenemos idea de cuanto es nuestro resulado optimo., podriamos obtener el percentile 10 y los valores que son menores a ese percentile 10, calcular el valor exacto. El resto utilizar la red neuronal. A continuación obtenemos el percentil para las tres medicienes, coste, CO2 y energia respectivamente. "
      ],
      "id": "fundamental-blond"
    },
    {
      "cell_type": "code",
      "metadata": {
        "id": "basic-filing",
        "outputId": "7befb810-1172-49ac-d4b6-c540ae7271bf"
      },
      "source": [
        "print(round(np.percentile(pred[:,0],10),0))\n",
        "print(round(np.percentile(pred[:,1],10),0))\n",
        "print(round(np.percentile(pred[:,2],10),0))\n",
        "\n"
      ],
      "id": "basic-filing",
      "execution_count": null,
      "outputs": [
        {
          "output_type": "stream",
          "text": [
            "4933945.0\n",
            "10499564.0\n",
            "29994205.0\n"
          ],
          "name": "stdout"
        }
      ]
    },
    {
      "cell_type": "code",
      "metadata": {
        "id": "spare-basket"
      },
      "source": [
        ""
      ],
      "id": "spare-basket",
      "execution_count": null,
      "outputs": []
    }
  ]
}